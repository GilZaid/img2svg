{
  "cells": [
    {
      "cell_type": "markdown",
      "metadata": {},
      "source": [
        "Here, we will split paths into segments which have only one neighbor (it is possible some of these paths will be very short; will this cause trouble? Also, when we have 3+ colors intersecting at one corner, where should we place the corner point? For later)\n",
        "In order to do this, we can \n",
        "- Change data structure entirely - instead of having a path object, we will have segment objects which have an inner region and an outer region and are assumed to be non-cyclic; we can just use paths for this and add an inside and an outside region attribute, and also make the default non-cyclic (and we can check if we end up with something cyclic by counting the number of component paths we get when tracing a region - if it is only 1, it is cyclic)\n",
        "- We can store these component paths by returning a list of paths each time we trace; we create a list of paths when we run the find path algorithm, as we keep a list where we store the outside region and the points and we add a new element to this list each time - in fact, we can just create the path immediately except for the first and last paths, which we must check if we need to merge together -- this gives us the paths we need, and for each, we know the inner and outer regions -\n",
        "- We need to be able to quickly check which paths are the same as other paths for neighboring regions. The graph algorithm tells us which regions imediately neighbor one another - for each pair of regions that immediately neighbor one another (without containment of one in the other), we can find all of their component paths that neighbor one another -- we want to compare these paths to see which are equal to which. It suffices to check the start and endpoints of each path, and note that the paths will be in reverse order -- such a check should be able to be done efficiently, and we can then link these paths together somehow - how to do this with a good data structure?\n",
        "\n",
        "Steps to implement:\n",
        "- Change path object so that it has an inner and outer region - DONE\n",
        "- Change find path algorithm so it returns a list of paths - DONE (test)\n",
        "- Store this list of paths for each region - DONE\n",
        "- Use the neighboring region graph to check which neighboring paths are the same - DONE (test)\n",
        "\n",
        "\n",
        "- We have a list of unique paths - we now have to do operations on them and then recombine the results\n",
        "- Compute the optimal polygons for these segments - does this work for 2-pt paths?\n",
        "- Next steps are turning these optimal polygons into Bezier curves that still fit together/connect at corners, so review the Potrace algorithm to see how to proceed"
      ]
    },
    {
      "cell_type": "code",
      "execution_count": 2,
      "metadata": {},
      "outputs": [],
      "source": [
        "import numpy as np\n",
        "from skimage.segmentation import flood_fill\n",
        "import matplotlib.pyplot as plt\n",
        "import math"
      ]
    },
    {
      "cell_type": "code",
      "execution_count": 18,
      "metadata": {
        "id": "jQfLJy4F-iEX"
      },
      "outputs": [],
      "source": [
        "# Define various constructs\n",
        "class _Point:\n",
        "    def __init__(self, x: float = 0, y: float = 0):\n",
        "        self.x = x\n",
        "        self.y = y\n",
        "\n",
        "    def __repr__(self):\n",
        "        return \"Pt(%f, %f)\" % (self.x, self.y)\n",
        "\n",
        "# Path object (missing many attributes at the moment)\n",
        "class _Path:\n",
        "    def __init__(self, pt: list, region_in: int, region_out: int):\n",
        "        self.pt = pt\n",
        "        self.region_in, self.region_out = region_in, region_out\n",
        "        self.cyclic = False\n",
        "        self.twinpath = None\n",
        "\n",
        "        self._lon = []  # lon[len]: (i,lon[i]) = longest straight line from i\n",
        "        self._x0 = 0  # /* origin for sums */\n",
        "        self._y0 = 0  # /* origin for sums */\n",
        "        self._sums = []  # / *sums[len + 1]: cache for fast summing * /\n",
        "\n",
        "        self._m = 0  # /* length of optimal polygon */\n",
        "        self._po = []  # /* po[m]: optimal polygon */\n",
        "        # self._curve = []  # /* curve[m]: array of curve elements */\n",
        "        # self._ocurve = []  # /* ocurve[om]: array of curve elements */\n",
        "        # self._fcurve = []  # /* final curve: this points to either curve or ocurve.*/\n",
        "\n",
        "    def __len__(self):\n",
        "        return len(self.pt)\n",
        "\n",
        "class _Sums:\n",
        "    def __init__(self):\n",
        "        self.x = 0\n",
        "        self.y = 0\n",
        "        self.x2 = 0\n",
        "        self.xy = 0\n",
        "        self.y2 = 0"
      ]
    },
    {
      "cell_type": "code",
      "execution_count": 4,
      "metadata": {
        "id": "tWhTw1fRL3L2"
      },
      "outputs": [],
      "source": [
        "def randArray(nrows: int, ncols: int, nsegments: int) -> np.ndarray:\n",
        "    return np.random.randint(0, nsegments, (nrows, ncols))\n",
        "\n",
        "def floodFill(S: np.ndarray, i: int, j: int, c:int) -> np.ndarray:\n",
        "    flood_fill(S, (i, j), c, connectivity=1, in_place=True)\n",
        "    return S\n",
        "\n",
        "def renumberContiguousSegment(S: np.array) -> np.ndarray:\n",
        "    c = -1\n",
        "    for i, j in np.ndindex(S.shape):\n",
        "        if S[i, j] >= 0:\n",
        "            floodFill(S, i, j, c)\n",
        "            c -= 1\n",
        "    S = -(S + 1)\n",
        "    ns = -c - 1\n",
        "    return S, ns\n",
        "\n",
        "def init_segmentation(nrows, ncols, nsegments = 2, scale_factor = 3): # Initiates in a particular way right now\n",
        "    segmentation = randArray(nrows, ncols, nsegments)\n",
        "    for i in range(9):\n",
        "        segmentation[1, i] = 2\n",
        "        segmentation[9, i] = 2\n",
        "        segmentation[i + 1, 0] = 2\n",
        "        segmentation[i + 1, 8] = 2\n",
        "    segmentation, nsegments = renumberContiguousSegment(segmentation)\n",
        "    # Scale up by scale factor\n",
        "    block = np.ones((scale_factor, scale_factor), dtype=segmentation.dtype)\n",
        "    segmentation = np.kron(segmentation, block)\n",
        "    nrows *= scale_factor\n",
        "    ncols *= scale_factor\n",
        "    return segmentation, nsegments, nrows, ncols"
      ]
    },
    {
      "cell_type": "code",
      "execution_count": 5,
      "metadata": {
        "colab": {
          "base_uri": "https://localhost:8080/"
        },
        "id": "K3fYwK82szOT",
        "outputId": "2c460cf4-271f-4a1a-c54d-f719abb38bbe"
      },
      "outputs": [
        {
          "data": {
            "text/plain": [
              "<matplotlib.image.AxesImage at 0x1345bfe20>"
            ]
          },
          "execution_count": 5,
          "metadata": {},
          "output_type": "execute_result"
        },
        {
          "data": {
            "image/png": "[encoded data removed]",
            "text/plain": [
              "<Figure size 640x480 with 1 Axes>"
            ]
          },
          "metadata": {},
          "output_type": "display_data"
        }
      ],
      "source": [
        "# CALC - Initalize segmentation\n",
        "nrows = 12\n",
        "ncols = nrows\n",
        "scalefactor = 2\n",
        "segmentation, nsegments, nrows, ncols = init_segmentation(nrows, ncols, scale_factor=scalefactor)\n",
        "\n",
        "plt.imshow(segmentation)"
      ]
    },
    {
      "cell_type": "code",
      "execution_count": null,
      "metadata": {},
      "outputs": [],
      "source": []
    },
    {
      "cell_type": "markdown",
      "metadata": {
        "id": "mmKPqf2LgiKQ"
      },
      "source": [
        "**Problem 1 - Assume we have a numpy array that is nrows x ncols, with nsegments number of segments that are connected, labeled 0 to nsegments - 1. We want to get the path around each segment's boundary, as well as see which regions neighbor one another and which are contained in one another.**"
      ]
    },
    {
      "cell_type": "code",
      "execution_count": 6,
      "metadata": {
        "id": "6aRg2WypzmPI"
      },
      "outputs": [],
      "source": [
        "# Helper functions to trace a region and get a path/paths\n",
        "def pad_seg(segmentation: np.ndarray) -> np.ndarray:\n",
        "    \"\"\"Pad the segmentation array to get the aray of corner values, \n",
        "    where the value stored is the pixel with the given vertex at the top left corner (-1 if not in image)\"\"\"\n",
        "    seg_padded = np.vstack([segmentation, -1 * np.ones((1, segmentation.shape[1]))])\n",
        "    seg_padded = np.hstack([seg_padded, -1 * np.ones((seg_padded.shape[0], 1))])\n",
        "    return seg_padded.astype(int)\n",
        "\n",
        "def find_corner(segmentation: np.array, region: int) -> _Point:\n",
        "    \"\"\"Find the upper left corner of the segment with a given number\"\"\"\n",
        "    for x in range(nrows):\n",
        "        for y in range(ncols):\n",
        "            if segmentation[x, y] == region:\n",
        "                return _Point(x, y)\n",
        "\n",
        "def compute_corners(seg: np.ndarray, nsegments: int) -> np.ndarray:\n",
        "    \"\"\"Compute upper left corner of all paths at once, store for later use\"\"\"\n",
        "    upper_left_corners = np.zeros((nsegments, 2), dtype = int)\n",
        "    found_yet = np.zeros(nsegments, dtype = int)\n",
        "    for x in range(nrows):\n",
        "        for y in range(ncols):\n",
        "            cur_region = int(seg[x, y])\n",
        "            if cur_region != -1:\n",
        "                if found_yet[cur_region] == 0:\n",
        "                  upper_left_corners[cur_region, 0], upper_left_corners[cur_region, 1] = x, y\n",
        "                  found_yet[cur_region] = 1\n",
        "    return upper_left_corners\n",
        "\n",
        "def left_pix(x, y, dirx, diry, seg, rows, cols) -> int:\n",
        "    \"\"\"Compute segment of the next left pixel at a given vertex going in a given direction\"\"\"\n",
        "    if dirx == 1:\n",
        "      if x >= 0 and x < rows and y >= 0 and y < cols:\n",
        "        return seg[x, y]\n",
        "      return -1\n",
        "    if dirx == -1:\n",
        "      if x >= 1 and x < rows + 1 and y >= 1 and y < cols + 1:\n",
        "        return seg[x - 1, y - 1]\n",
        "      return -1\n",
        "    if diry == 1:\n",
        "      if x >= 1 and x < rows + 1 and y >= 0 and y < cols:\n",
        "        return seg[x - 1, y]\n",
        "      return -1\n",
        "    if diry == -1:\n",
        "      if x >= 0 and x < rows and y >= 1 and y < cols + 1:\n",
        "        return segmentation[x, y - 1]\n",
        "    return -1\n",
        "\n",
        "def right_pix(x, y, dirx, diry, seg, rows, cols) -> int:\n",
        "    if dirx == 1:\n",
        "      if x >= 0 and x < rows and y - 1 >= 0 and y - 1 < cols:\n",
        "        return seg[x, y - 1]\n",
        "      return -1\n",
        "    if dirx == -1:\n",
        "      if x - 1 >= 0 and x - 1 < rows and y >= 0 and y < cols:\n",
        "        return seg[x - 1, y]\n",
        "      return -1\n",
        "    if diry == 1:\n",
        "      if x >= 0 and x < rows and y >= 0 and y < cols:\n",
        "        return seg[x, y]\n",
        "      return -1\n",
        "    if diry == -1:\n",
        "      if x - 1 >= 0 and x - 1 < rows and y - 1 >= 0 and y - 1 < cols:\n",
        "        return seg[x - 1, y - 1]\n",
        "    return -1\n",
        "\n",
        "def find_path(seg: np.ndarray, x0: int, y0: int, region: int, graph: np.ndarray):\n",
        "    \"\"\"Get the boundary points and the outside regions for a given region number; x0, y0 are the upper lefthand corner\"\"\"\n",
        "    x = x0\n",
        "    y = y0\n",
        "    rows, cols = seg.shape\n",
        "\n",
        "    # Starting directions are known because we are at the upper left corner; note that positive x is down, positive y is right\n",
        "    dirx = 1\n",
        "    diry = 0\n",
        "    # Start with an empty list of points on the path\n",
        "    pt = []\n",
        "\n",
        "    while True:\n",
        "        # Look at the current pixel to the right\n",
        "        right_pixel = right_pix(x, y, dirx, diry, seg, rows, cols)\n",
        "        if right_pixel != -1:\n",
        "          graph[region, right_pixel] = 1\n",
        "        \n",
        "        # Add point to path\n",
        "        pt.append((_Point(int(x), int(y)), right_pixel))\n",
        "\n",
        "        # Move to the next point\n",
        "        x += dirx\n",
        "        y += diry\n",
        "\n",
        "        # Check if path complete - used to be after moving to next point - Note that this can mess up contiguousness of last and first, FIX\n",
        "        if x == x0 and y == y0:\n",
        "            break\n",
        "\n",
        "         # Compute the next left and right pixels from the current position to decide if direction change necessary\n",
        "        left_pixel = left_pix(x, y, dirx, diry, seg, rows, cols)\n",
        "        right_pixel = right_pix(x, y, dirx, diry, seg, rows, cols)\n",
        "\n",
        "        # We want there to always be a region pixel on the left and not on the right\n",
        "        if right_pixel == region and left_pixel != region:\n",
        "            # Ambiguous turn, for now we turn right\n",
        "            dirx, diry = diry, -dirx\n",
        "        elif left_pixel == region and right_pixel == region:\n",
        "            # Turn right\n",
        "            dirx, diry = diry, -dirx\n",
        "        elif left_pixel != region and right_pixel != region:\n",
        "            # Turn left\n",
        "            dirx, diry = -diry, dirx\n",
        "        # Other case is when left_pixel == region and right_pixel != region, in which case we continue straight\n",
        "\n",
        "    # Allocate new path object; Area may not be accurate, not sure\n",
        "    return pt\n",
        "\n",
        "def create_paths_from_pt_list(pt, region):\n",
        "  \"\"\"Takes a list of points and creates a list of paths from it, which overlap on the ends\"\"\"\n",
        "  path_count = 0\n",
        "  first_path = []\n",
        "\n",
        "  path_list = []\n",
        "  cur_pts = []\n",
        "  region_out = pt[0][1]\n",
        "  # Loop through point-region pairs\n",
        "  for pair in pt:\n",
        "    # If the outside region has changesd, cap the current path, add it, and increment the path count\n",
        "    if pair[1] != region_out:\n",
        "      cur_pts.append(pair[0])\n",
        "      if path_count == 0:\n",
        "         first_path = cur_pts\n",
        "      else:\n",
        "        path_list.append(_Path(cur_pts, region, region_out))\n",
        "      region_out = pair[1]\n",
        "      cur_pts = []\n",
        "      path_count += 1\n",
        "    cur_pts.append(pair[0])\n",
        "  # We withold adding the first path -- now, we add the first and last paths, seeing if they must be combined\n",
        "  if pt[0][1] == region_out:\n",
        "    path_list.append(_Path(cur_pts + first_path, region, region_out))\n",
        "  else:\n",
        "    cur_pts.append(pt[0][0])\n",
        "    path_list.append(_Path(cur_pts, region, region_out))\n",
        "    path_list = [_Path(first_path, region, pt[0][1])] + path_list\n",
        "  return path_list\n",
        "\n",
        "def print_pathpts(path: _Path):\n",
        "  \"\"\"Print all points on a path sequentially\"\"\"\n",
        "  for point in path.pt:\n",
        "      print(point.x, point.y)\n",
        "\n",
        "def find_path_for_region(seg_vertices: np.ndarray, region: int, corner_arr: np.ndarray, graph: np.ndarray):\n",
        "  \"\"\"Given the pre-computed corner array, compute and return the path for a give region number\"\"\"\n",
        "  corner_x, corner_y = corner_arr[region, 0], corner_arr[region, 1]\n",
        "  pt = find_path(seg_vertices, corner_x, corner_y, region, graph)\n",
        "  return create_paths_from_pt_list(pt, region)\n",
        "\n",
        "# Function which gets all decomposed paths for a segmentation\n",
        "def get_decomposed_paths(segmentation, nsegments):\n",
        "    \"\"\"Get list of decomposed paths for each region in a segmentation, as well as neighbor info\"\"\"\n",
        "    graph = np.zeros((nsegments, nsegments), dtype = int) # Create a graph to track neighbor information\n",
        "    seg_vertices = pad_seg(segmentation) # Pad the segmentation so that it represents uppere left vertices\n",
        "    corners = compute_corners(seg_vertices, nsegments) # Compute the corners of each region\n",
        "    plist = [] # Create a list which will store the decomposed path list for region i in its ith spot\n",
        "    for i in range(nsegments):\n",
        "        plist.append(find_path_for_region(seg_vertices, i, corners, graph))\n",
        "    return plist, graph"
      ]
    },
    {
      "cell_type": "code",
      "execution_count": 7,
      "metadata": {},
      "outputs": [],
      "source": [
        "# CALC - Graph tracks which components are inside which: graph[i, j] = 1 <-> region i has region j directly outside of it\n",
        "plist, graph = get_decomposed_paths(segmentation, nsegments)"
      ]
    },
    {
      "cell_type": "code",
      "execution_count": 8,
      "metadata": {},
      "outputs": [],
      "source": [
        "# Helper functions to show a given path and its constituent parts\n",
        "def show_segmentation(segmentation):\n",
        "    plt.imshow(segmentation)\n",
        "    plt.show()\n",
        "\n",
        "def display_path(path: _Path, sidelength = nrows + 1):\n",
        "    \"\"\"Display a given path in a grid with given sidelength\"\"\"\n",
        "    path_arr = np.zeros((sidelength, sidelength))\n",
        "    for point in path.pt:\n",
        "        path_arr[point.x, point.y] = 1\n",
        "    plt.imshow(path_arr)\n",
        "\n",
        "def display_pathlist(pathlist, sidelength = nrows + 1):\n",
        "    for path in pathlist:\n",
        "        display_path(path, sidelength)\n",
        "        plt.show()"
      ]
    },
    {
      "cell_type": "code",
      "execution_count": 9,
      "metadata": {},
      "outputs": [
        {
          "data": {
            "image/png": "[encoded data removed]",
            "text/plain": [
              "<Figure size 640x480 with 1 Axes>"
            ]
          },
          "metadata": {},
          "output_type": "display_data"
        },
        {
          "data": {
            "image/png": "[encoded data removed]",
            "text/plain": [
              "<Figure size 640x480 with 1 Axes>"
            ]
          },
          "metadata": {},
          "output_type": "display_data"
        },
        {
          "data": {
            "image/png": "[encoded data removed]",
            "text/plain": [
              "<Figure size 640x480 with 1 Axes>"
            ]
          },
          "metadata": {},
          "output_type": "display_data"
        },
        {
          "data": {
            "image/png": "[encoded data removed]",
            "text/plain": [
              "<Figure size 640x480 with 1 Axes>"
            ]
          },
          "metadata": {},
          "output_type": "display_data"
        },
        {
          "data": {
            "image/png": "[encoded data removed]",
            "text/plain": [
              "<Figure size 640x480 with 1 Axes>"
            ]
          },
          "metadata": {},
          "output_type": "display_data"
        }
      ],
      "source": [
        "# Show the segmentation and the path outline of a given path\n",
        "show_segmentation(segmentation)\n",
        "display_pathlist(plist[2])"
      ]
    },
    {
      "cell_type": "code",
      "execution_count": 10,
      "metadata": {
        "colab": {
          "base_uri": "https://localhost:8080/"
        },
        "id": "TwtJE0XChOTv",
        "outputId": "7badc4f1-086a-4393-dc3d-db02e0158e0d"
      },
      "outputs": [],
      "source": [
        "# Graph operations\n",
        "def search(graph: np.ndarray, node: int, visited=None):\n",
        "    if visited is None:\n",
        "        visited = set()\n",
        "    visited.add(node)\n",
        "\n",
        "    for neighbor in np.argwhere(graph[node, :] == 1):\n",
        "        if neighbor[0] not in visited:\n",
        "            search(graph, neighbor[0], visited)\n",
        "    return visited\n",
        "\n",
        "def get_graph_info(graph, nsegments):\n",
        "    # Calculate which elements are immediate neighbors\n",
        "    imm_neighbor = (graph & graph.T).astype(int)\n",
        "\n",
        "    # Calculate groups of neighbors\n",
        "    nbrs = [] # List of groups of neighbors\n",
        "    processed = np.zeros(nsegments, dtype = int) # Tracks which segments have been assigned a group\n",
        "    which_nbr = [None] * nsegments # Tracks which neighbor group a given region belongs to\n",
        "    counter = 0\n",
        "    for i in range(nsegments):\n",
        "        if processed[i] == 0:\n",
        "            nbr_set = search(imm_neighbor, i)\n",
        "            nbrs.append(nbr_set)\n",
        "            for j in nbr_set:\n",
        "                processed[j] = 1\n",
        "                which_nbr[j] = counter\n",
        "                counter += 1\n",
        "\n",
        "    # Calculate which regions directly contain which other regions; dir_contain[i, j] = 1 if region i is contained in region j and i touches j\n",
        "    dir_contain = (graph & ~graph.T).astype(int)\n",
        "\n",
        "    # Link together groups of neighbors by giving each neighbor group a parent which contains it directly; -1 means no parent\n",
        "    nbr_parents = [-1] * counter\n",
        "    for index in np.argwhere(dir_contain == 1):\n",
        "        nbr_parents[which_nbr[index[0]]]  = which_nbr[index[1]]\n",
        "\n",
        "    return imm_neighbor, nbrs, which_nbr, dir_contain, nbr_parents"
      ]
    },
    {
      "cell_type": "code",
      "execution_count": 11,
      "metadata": {},
      "outputs": [],
      "source": [
        "# CALC - Extract meaningful information from the graph\n",
        "immediate_nbrs, nbr_groups, which_nbr, dir_contain, nbr_parents = get_graph_info(graph, nsegments)"
      ]
    },
    {
      "cell_type": "code",
      "execution_count": 12,
      "metadata": {},
      "outputs": [],
      "source": [
        "# CALC - Get unique paths and identify which paths are duplicates\n",
        "# At this point, we have all decomposed paths and all containment information\n",
        "# Now, we want to compile a list of all unique paths, and identify which component paths are the same\n",
        "# To identify which paths are the same, it suffices to consider regions which immediately neighbor one another\n",
        "# For each path, we will store a pointer that in None, but if the path has been assigned to a different path (in reverse),\n",
        "# It will point to that path's number in the mega path directory\n",
        "\n",
        "# We will loop through all paths one by one\n",
        "# For each path, we will first check the path's pointer; if it is not None, it has already been duplicated, and we ignore it\n",
        "# Next, we add the path to the unique path mega list (may be better structure possible, but this is most smimple)\n",
        "# We then get the enclosed region and the neighboring region;\n",
        "# If these are immediate neighbors per the graph, the path will be a duplicate, otherwise it will only appear once\n",
        "# If they are imm nbrs, we then look at the start and end points of the path - these should be shared by the duplicate\n",
        "# We then loop through all paths for the nbr region - for each path, we see if its start and end points are the reverse\n",
        "# If it is, then we mark this path's pointer to point to the current path's place in the mega list -\n",
        "# This marks the path as having been looked at already, as well as specifies where to find the reverse path that is its twin\n",
        "\n",
        "# The way this works, twinpath will only be set for the path that is not in the mega list;\n",
        "# This is easy to change, however, if necessary (loop through paths not in list, set info for twin path of them)\n",
        "\n",
        "# Idea: As we create segments, have a dictionary of points to segments - key is a tuple, start point and end point\n",
        "# The value of it is the actual path - can check for duplicates or order it so that x0 < y0, etc\n",
        "# Works better for a ton of segments, but if it is fast anyways, no need - also, if something is fast already,\n",
        "# No need to use Numba for it\n",
        "# In dictionary, contain start and end point, ordered - would make it easier to access segments based on end points\n",
        "\n",
        "def get_unique_paths(plist, nsegments):\n",
        "    unique_paths = []\n",
        "    for region in range(nsegments):\n",
        "        for path in plist[region]:\n",
        "            if path.twinpath == None:\n",
        "                unique_paths.append(path)\n",
        "                region_out = path.region_out\n",
        "                if region_out != -1 and immediate_nbrs[region, region_out]:\n",
        "                    for path2 in plist[region_out]:\n",
        "                        if path2.region_out == region:\n",
        "                            if path2.pt[0].x == path.pt[-1].x and path2.pt[0].y == path.pt[-1].y:\n",
        "                                if path2.pt[-1].x == path.pt[0].x and path2.pt[-1].y == path.pt[0].y:\n",
        "                                    path2.twinpath = len(unique_paths) - 1\n",
        "    return unique_paths\n",
        "\n",
        "unique_paths = get_unique_paths(plist, nsegments)\n",
        "# display_pathlist(unique_paths)"
      ]
    },
    {
      "cell_type": "markdown",
      "metadata": {
        "id": "nndDIys70Y_b"
      },
      "source": [
        "**Problem 2 - Calculate straight segments that make up each path, and find an optimal configuration of straight sgements for all paths that optimizes the given penalties and shares the same segments where regions neighbor one another.**"
      ]
    },
    {
      "cell_type": "code",
      "execution_count": 13,
      "metadata": {
        "id": "XQ_tJuoAxN_S"
      },
      "outputs": [],
      "source": [
        "# Auxililary math functions\n",
        "def sign(x):\n",
        "    if x > 0:\n",
        "        return 1\n",
        "    if x < 0:\n",
        "        return -1\n",
        "    else:\n",
        "        return 0\n",
        "\n",
        "def mod(a: int, n: int) -> int:\n",
        "    return a % n if a >= n else a if a >= 0 else n - 1 - (-1 - a) % n\n",
        "\n",
        "def floordiv(a: int, n: int):\n",
        "    return a // n if a >= 0 else -1 - (-1 - a) // n\n",
        "\n",
        "def interval(t: float, a: _Point, b: _Point):\n",
        "    return _Point(a.x + t * (b.x - a.x), a.y + t * (b.y - a.y))\n",
        "\n",
        "def dorth_infty(p0: _Point, p2: _Point):\n",
        "    \"\"\"\n",
        "    return a direction that is 90 degrees counterclockwise from p2-p0,\n",
        "    but then restricted to one of the major wind directions (n, nw, w, etc)\n",
        "    \"\"\"\n",
        "    return _Point(-sign(p2.y - p0.y), sign(p2.x - p0.x))\n",
        "\n",
        "def dpara(p0: _Point, p1: _Point, p2: _Point) -> float:\n",
        "    \"\"\"\n",
        "    /* return (p1-p0)x(p2-p0), the area of the parallelogram */\n",
        "    \"\"\"\n",
        "    x1 = p1.x - p0.x\n",
        "    y1 = p1.y - p0.y\n",
        "    x2 = p2.x - p0.x\n",
        "    y2 = p2.y - p0.y\n",
        "    return x1 * y2 - x2 * y1\n",
        "\n",
        "def ddenom(p0: _Point, p2: _Point) -> float:\n",
        "    \"\"\"\n",
        "    ddenom/dpara have the property that the square of radius 1 centered\n",
        "    at p1 intersects the line p0p2 iff |dpara(p0,p1,p2)| <= ddenom(p0,p2)\n",
        "    \"\"\"\n",
        "    r = dorth_infty(p0, p2)\n",
        "    return r.y * (p2.x - p0.x) - r.x * (p2.y - p0.y)\n",
        "\n",
        "def cyclic(a: int, b: int, c: int) -> int:\n",
        "    \"\"\"\n",
        "    /* return 1 if a <= b < c < a, in a cyclic sense (mod n) */\n",
        "    \"\"\"\n",
        "    if a <= c:\n",
        "        return a <= b < c\n",
        "    else:\n",
        "        return a <= b or b < c\n",
        "\n",
        "def pointslope(pp: _Path, i: int, j: int, ctr: _Point, dir: _Point) -> None:\n",
        "    \"\"\"\n",
        "    determine the center and slope of the line i..j. Assume i<j. Needs\n",
        "    \"sum\" components of p to be set.\n",
        "    \"\"\"\n",
        "\n",
        "    # /* assume i<j */\n",
        "\n",
        "    n = len(pp)\n",
        "    sums = pp._sums\n",
        "\n",
        "    r = 0  # /* rotations from i to j */\n",
        "\n",
        "    while j >= n:\n",
        "        j -= n\n",
        "        r += 1\n",
        "\n",
        "    while i >= n:\n",
        "        i -= n\n",
        "        r -= 1\n",
        "\n",
        "    while j < 0:\n",
        "        j += n\n",
        "        r -= 1\n",
        "\n",
        "    while i < 0:\n",
        "        i += n\n",
        "        r += 1\n",
        "\n",
        "    x = sums[j + 1].x - sums[i].x + r * sums[n].x\n",
        "    y = sums[j + 1].y - sums[i].y + r * sums[n].y\n",
        "    x2 = sums[j + 1].x2 - sums[i].x2 + r * sums[n].x2\n",
        "    xy = sums[j + 1].xy - sums[i].xy + r * sums[n].xy\n",
        "    y2 = sums[j + 1].y2 - sums[i].y2 + r * sums[n].y2\n",
        "    k = j + 1 - i + r * n\n",
        "\n",
        "    ctr.x = x / k\n",
        "    ctr.y = y / k\n",
        "\n",
        "    a = float(x2 - x * x / k) / k\n",
        "    b = float(xy - x * y / k) / k\n",
        "    c = float(y2 - y * y / k) / k\n",
        "\n",
        "    lambda2 = (\n",
        "        a + c + math.sqrt((a - c) * (a - c) + 4 * b * b)\n",
        "    ) / 2  # /* larger e.value */\n",
        "\n",
        "    # /* now find e.vector for lambda2 */\n",
        "    a -= lambda2\n",
        "    c -= lambda2\n",
        "\n",
        "    if math.fabs(a) >= math.fabs(c):\n",
        "        l = math.sqrt(a * a + b * b)\n",
        "        if l != 0:\n",
        "            dir.x = -b / l\n",
        "            dir.y = a / l\n",
        "    else:\n",
        "        l = math.sqrt(c * c + b * b)\n",
        "        if l != 0:\n",
        "            dir.x = -c / l\n",
        "            dir.y = b / l\n",
        "    if l == 0:\n",
        "        # sometimes this can happen when k=4:\n",
        "        # the two eigenvalues coincide */\n",
        "        dir.x = 0\n",
        "        dir.y = 0\n",
        "\n",
        "def quadform(Q: list, w: _Point) -> float:\n",
        "    \"\"\"Apply quadratic form Q to vector w = (w.x,w.y)\"\"\"\n",
        "    v = (w.x, w.y, 1.0)\n",
        "    sum = 0.0\n",
        "    for i in range(3):\n",
        "        for j in range(3):\n",
        "            sum += v[i] * Q[i][j] * v[j]\n",
        "    return sum\n",
        "\n",
        "def xprod(p1x, p1y, p2x, p2y) -> float:\n",
        "    \"\"\"calculate p1 x p2\"\"\"\n",
        "    return p1x * p2y - p1y * p2x\n",
        "\n",
        "def cprod(p0: _Point, p1: _Point, p2: _Point, p3: _Point) -> float:\n",
        "    \"\"\"calculate (p1-p0)x(p3-p2)\"\"\"\n",
        "    x1 = p1.x - p0.x\n",
        "    y1 = p1.y - p0.y\n",
        "    x2 = p3.x - p2.x\n",
        "    y2 = p3.y - p2.y\n",
        "    return x1 * y2 - x2 * y1\n",
        "\n",
        "def iprod(p0: _Point, p1: _Point, p2: _Point) -> float:\n",
        "    \"\"\"calculate (p1-p0)*(p2-p0)\"\"\"\n",
        "    x1 = p1.x - p0.x\n",
        "    y1 = p1.y - p0.y\n",
        "    x2 = p2.x - p0.x\n",
        "    y2 = p2.y - p0.y\n",
        "    return x1 * x2 + y1 * y2\n",
        "\n",
        "def iprod1(p0: _Point, p1: _Point, p2: _Point, p3: _Point) -> float:\n",
        "    \"\"\"calculate (p1-p0)*(p3-p2)\"\"\"\n",
        "    x1 = p1.x - p0.x\n",
        "    y1 = p1.y - p0.y\n",
        "    x2 = p3.x - p2.x\n",
        "    y2 = p3.y - p2.y\n",
        "    return x1 * x2 + y1 * y2\n",
        "\n",
        "def sq(x: float) -> float:\n",
        "    return x * x\n",
        "\n",
        "def ddist(p: _Point, q: _Point) -> float:\n",
        "    \"\"\"calculate distance between two points\"\"\"\n",
        "    return math.sqrt(sq(p.x - q.x) + sq(p.y - q.y))\n",
        "\n",
        "def bezier(t: float, p0: _Point, p1: _Point, p2: _Point, p3: _Point) -> _Point:\n",
        "    \"\"\"calculate point of a bezier curve\"\"\"\n",
        "    s = 1 - t\n",
        "\n",
        "    \"\"\"\n",
        "    Note: a good optimizing compiler (such as gcc-3) reduces the\n",
        "    following to 16 multiplications, using common subexpression\n",
        "    elimination.\n",
        "    \"\"\"\n",
        "    return _Point(\n",
        "        s * s * s * p0.x\n",
        "        + 3 * (s * s * t) * p1.x\n",
        "        + 3 * (t * t * s) * p2.x\n",
        "        + t * t * t * p3.x,\n",
        "        s * s * s * p0.y\n",
        "        + 3 * (s * s * t) * p1.y\n",
        "        + 3 * (t * t * s) * p2.y\n",
        "        + t * t * t * p3.y,\n",
        "    )\n",
        "\n",
        "def tangent(\n",
        "    p0: _Point, p1: _Point, p2: _Point, p3: _Point, q0: _Point, q1: _Point\n",
        ") -> float:\n",
        "    \"\"\"calculate the point t in [0..1] on the (convex) bezier curve\n",
        "    (p0,p1,p2,p3) which is tangent to q1-q0. Return -1.0 if there is no\n",
        "    solution in [0..1].\"\"\"\n",
        "\n",
        "    # (1-t)^2 A + 2(1-t)t B + t^2 C = 0\n",
        "    # a t^2 + b t + c = 0\n",
        "\n",
        "    A = cprod(p0, p1, q0, q1)\n",
        "    B = cprod(p1, p2, q0, q1)\n",
        "    C = cprod(p2, p3, q0, q1)\n",
        "\n",
        "    a = A - 2 * B + C\n",
        "    b = -2 * A + 2 * B\n",
        "    c = A\n",
        "\n",
        "    d = b * b - 4 * a * c\n",
        "\n",
        "    if a == 0 or d < 0:\n",
        "        return -1.0\n",
        "\n",
        "    s = math.sqrt(d)\n",
        "\n",
        "    r1 = (-b + s) / (2 * a)\n",
        "    r2 = (-b - s) / (2 * a)\n",
        "\n",
        "    if 0 <= r1 <= 1:\n",
        "        return r1\n",
        "    elif 0 <= r2 <= 1:\n",
        "        return r2\n",
        "    else:\n",
        "        return -1.0\n",
        "\n",
        "INFTY = float(\"inf\")\n",
        "COS179 = math.cos(math.radians(179))"
      ]
    },
    {
      "cell_type": "code",
      "execution_count": 14,
      "metadata": {
        "id": "-LbDSAiDwfik"
      },
      "outputs": [],
      "source": [
        "# These functions calculate the longest straight segment from each point (straight from Potrace python port)\n",
        "def _calc_sums(path: _Path) -> int:\n",
        "    \"\"\"Preparation: fill in the sum* fields of a path (used for later\n",
        "    rapid summing). Return 0 on success, 1 with errno set on\n",
        "    failure.\"\"\"\n",
        "    n = len(path)\n",
        "    path._sums = [_Sums() for i in range(len(path) + 1)]\n",
        "\n",
        "    # origin\n",
        "    path._x0 = path.pt[0].x\n",
        "    path._y0 = path.pt[0].y\n",
        "\n",
        "    # preparatory computation for later fast summing\n",
        "    path._sums[0].x2 = 0\n",
        "    path._sums[0].xy = 0\n",
        "    path._sums[0].y2 = 0\n",
        "    path._sums[0].x = 0\n",
        "    path._sums[0].y = 0\n",
        "    for i in range(n):\n",
        "        x = path.pt[i].x - path._x0\n",
        "        y = path.pt[i].y - path._y0\n",
        "        path._sums[i + 1].x = path._sums[i].x + x\n",
        "        path._sums[i + 1].y = path._sums[i].y + y\n",
        "        path._sums[i + 1].x2 = path._sums[i].x2 + float(x * x)\n",
        "        path._sums[i + 1].xy = path._sums[i].xy + float(x * y)\n",
        "        path._sums[i + 1].y2 = path._sums[i].y2 + float(y * y)\n",
        "    return 0\n",
        "\n",
        "# FIX THESE SO THEY WORK FOR NON-CLOSED PATHS\n",
        "def _calc_lon(pp: _Path) -> int:\n",
        "    \n",
        "    \"\"\"initialize the nc data structure. Point from each point to the\n",
        "    furthest future point to which it is connected by a vertical or\n",
        "    horizontal segment. We take advantage of the fact that there is\n",
        "    always a direction change at 0 (due to the path decomposition\n",
        "    algorithm). But even if this were not so, there is no harm, as\n",
        "    in practice, correctness does not depend on the word \"furthest\"\n",
        "    above.\n",
        "        returns 0 on success, 1 on error with errno set\n",
        "    \"\"\"\n",
        "\n",
        "    pt = pp.pt\n",
        "    n = len(pp)\n",
        "    ct = [0, 0, 0, 0]\n",
        "    pivk = [None] * n  # pivk[n]\n",
        "    nc = [None] * n  # nc[n]: next corner\n",
        "    is_cyclic = pp.cyclic\n",
        "    \n",
        "    if is_cyclic:\n",
        "        k = 0\n",
        "        for i in range(n - 1, -1, -1):\n",
        "            if pt[i].x != pt[k].x and pt[i].y != pt[k].y:\n",
        "                k = i + 1\n",
        "            nc[i] = k\n",
        "    else:\n",
        "        k = n - 1\n",
        "        nc[n - 1] = n - 1 # What should this be for a non-closed path?\n",
        "        for i in range(n - 2, -1, -1):\n",
        "            if pt[i].x != pt[k].x and pt[i].y != pt[k].y:\n",
        "                k = i + 1  # /* necessarily i<n-1 in this case FOR CLOSED; not for non-closed though */\n",
        "            nc[i] = k\n",
        "    \n",
        "    pp._lon = [None] * n\n",
        "\n",
        "    # determine pivot points: for each i, let pivk[i] be the furthest k\n",
        "    # such that all j with i<j<k lie on a line connecting i,k.\n",
        "\n",
        "    if is_cyclic:\n",
        "        start = n - 1\n",
        "    else:\n",
        "        start = n - 2\n",
        "        pivk[n - 1] = n\n",
        "\n",
        "\n",
        "    for i in range(start, -1, -1):\n",
        "        ct[0] = ct[1] = ct[2] = ct[3] = 0\n",
        "\n",
        "        # keep track of \"directions\" that have occurred\n",
        "        dir = int(\n",
        "            (3 + 3 * (pt[mod(i + 1, n)].x - pt[i].x) + (pt[mod(i + 1, n)].y - pt[i].y))\n",
        "            // 2\n",
        "        )\n",
        "        ct[dir] += 1 # For non-closed, dir ends up being crazy when we consider i = n - 1\n",
        "\n",
        "        constraint0x = 0\n",
        "        constraint0y = 0\n",
        "        constraint1x = 0\n",
        "        constraint1y = 0\n",
        "\n",
        "        # find the next k such that no straight line from i to k\n",
        "        k = nc[i]\n",
        "        k1 = i\n",
        "        while True:\n",
        "            break_inner_loop_and_continue = False\n",
        "            dir = int(3 + 3 * sign(pt[k].x - pt[k1].x) + sign(pt[k].y - pt[k1].y)) // 2\n",
        "            ct[dir] += 1\n",
        "\n",
        "            # if all four \"directions\" have occurred, cut this path\n",
        "            if ct[0] and ct[1] and ct[2] and ct[3]:\n",
        "                pivk[i] = k1\n",
        "                break_inner_loop_and_continue = True\n",
        "                break  # goto foundk;\n",
        "\n",
        "            cur_x = pt[k].x - pt[i].x\n",
        "            cur_y = pt[k].y - pt[i].y\n",
        "\n",
        "            if (\n",
        "                xprod(constraint0x, constraint0y, cur_x, cur_y) < 0\n",
        "                or xprod(constraint1x, constraint1y, cur_x, cur_y) > 0\n",
        "            ):\n",
        "                break\n",
        "            # see if current constraint is violated\n",
        "            # else, update constraint\n",
        "            if abs(cur_x) <= 1 and abs(cur_y) <= 1:\n",
        "                pass  # /* no constraint */\n",
        "            else:\n",
        "                off_x = cur_x + (1 if (cur_y >= 0 and (cur_y > 0 or cur_x < 0)) else -1)\n",
        "                off_y = cur_y + (1 if (cur_x <= 0 and (cur_x < 0 or cur_y < 0)) else -1)\n",
        "                if xprod(constraint0x, constraint0y, off_x, off_y) >= 0:\n",
        "                    constraint0x = off_x\n",
        "                    constraint0y = off_y\n",
        "                off_x = cur_x + (1 if (cur_y <= 0 and (cur_y < 0 or cur_x < 0)) else -1)\n",
        "                off_y = cur_y + (1 if (cur_x >= 0 and (cur_x > 0 or cur_y < 0)) else -1)\n",
        "                if xprod(constraint1x, constraint1y, off_x, off_y) <= 0:\n",
        "                    constraint1x = off_x\n",
        "                    constraint1y = off_y\n",
        "            k1 = k\n",
        "            k = nc[k1]\n",
        "            if not cyclic(k, i, k1):\n",
        "                break\n",
        "        if break_inner_loop_and_continue:\n",
        "            # This previously was a goto to the end of the for i statement.\n",
        "            continue\n",
        "        # constraint_viol:\n",
        "\n",
        "        \"\"\"k1 was the last \"corner\" satisfying the current constraint, and\n",
        "        k is the first one violating it. We now need to find the last\n",
        "        point along k1..k which satisfied the constraint.\"\"\"\n",
        "        # dk: direction of k-k1\n",
        "        dk_x = sign(pt[k].x - pt[k1].x)\n",
        "        dk_y = sign(pt[k].y - pt[k1].y)\n",
        "        cur_x = pt[k1].x - pt[i].x\n",
        "        cur_y = pt[k1].y - pt[i].y\n",
        "        \"\"\"find largest integer j such that xprod(constraint[0], cur+j*dk) >= 0\n",
        "        and xprod(constraint[1], cur+j*dk) <= 0. Use bilinearity of xprod. */\"\"\"\n",
        "        a = xprod(constraint0x, constraint0y, cur_x, cur_y)\n",
        "        b = xprod(constraint0x, constraint0y, dk_x, dk_y)\n",
        "        c = xprod(constraint1x, constraint1y, cur_x, cur_y)\n",
        "        d = xprod(constraint1x, constraint1y, dk_x, dk_y)\n",
        "        \"\"\"find largest integer j such that a+j*b>=0 and c+j*d<=0. This\n",
        "        can be solved with integer arithmetic.\"\"\"\n",
        "        j = INFTY\n",
        "        if b < 0:\n",
        "            j = floordiv(a, -b)\n",
        "        if d > 0:\n",
        "            j = min(j, floordiv(-c, d))\n",
        "        pivk[i] = mod(k1 + j, n)\n",
        "        # foundk:\n",
        "        # /* for i */\n",
        "\n",
        "    \"\"\"/* clean up: for each i, let lon[i] be the largest k such that for\n",
        "         all i' with i<=i'<k, i'<k<=pivk[i']. */\"\"\"\n",
        "\n",
        "    j = pivk[n - 1]\n",
        "    pp._lon[n - 1] = j\n",
        "    for i in range(n - 2, -1, -1):\n",
        "        if cyclic(i + 1, pivk[i], j):\n",
        "            j = pivk[i]\n",
        "        pp._lon[i] = j\n",
        "\n",
        "    i = n - 1\n",
        "    while cyclic(mod(i + 1, n), j, pp._lon[i]):\n",
        "        pp._lon[i] = j\n",
        "        i -= 1\n",
        "\n",
        "    return 0\n",
        "\n",
        "def penalty3(pp: _Path, i: int, j: int) -> float:\n",
        "    \"\"\"Auxiliary function: calculate the penalty of an edge from i to j in\n",
        "    the given path. This needs the \"lon\" and \"sum*\" data.\"\"\"\n",
        "    n = len(pp)\n",
        "    pt = pp.pt\n",
        "    sums = pp._sums\n",
        "\n",
        "    # /* assume 0<=i<j<=n    */\n",
        "\n",
        "    r = 0  # /* rotations from i to j */\n",
        "    if j >= n:\n",
        "        j -= n\n",
        "        r = 1\n",
        "\n",
        "    # /* critical inner loop: the \"if\" gives a 4.6 percent speedup */\n",
        "    if r == 0:\n",
        "        x = sums[j + 1].x - sums[i].x\n",
        "        y = sums[j + 1].y - sums[i].y\n",
        "        x2 = sums[j + 1].x2 - sums[i].x2\n",
        "        xy = sums[j + 1].xy - sums[i].xy\n",
        "        y2 = sums[j + 1].y2 - sums[i].y2\n",
        "        k = j + 1 - i\n",
        "    else:\n",
        "        x = sums[j + 1].x - sums[i].x + sums[n].x\n",
        "        y = sums[j + 1].y - sums[i].y + sums[n].y\n",
        "        x2 = sums[j + 1].x2 - sums[i].x2 + sums[n].x2\n",
        "        xy = sums[j + 1].xy - sums[i].xy + sums[n].xy\n",
        "        y2 = sums[j + 1].y2 - sums[i].y2 + sums[n].y2\n",
        "        k = j + 1 - i + n\n",
        "\n",
        "    px = (pt[i].x + pt[j].x) / 2.0 - pt[0].x\n",
        "    py = (pt[i].y + pt[j].y) / 2.0 - pt[0].y\n",
        "    ey = pt[j].x - pt[i].x\n",
        "    ex = -(pt[j].y - pt[i].y)\n",
        "\n",
        "    a = (x2 - 2 * x * px) / k + px * px\n",
        "    b = (xy - x * py - y * px) / k + px * py\n",
        "    c = (y2 - 2 * y * py) / k + py * py\n",
        "\n",
        "    s = ex * ex * a + 2 * ex * ey * b + ey * ey * c\n",
        "    return math.sqrt(s)\n",
        "\n",
        "def _bestpolygon(pp: _Path) -> int:\n",
        "    \"\"\"\n",
        "    /* find the optimal polygon. Fill in the m and po components. Return 1\n",
        "         on failure with errno set, else 0. Non-cyclic version: assumes i=0\n",
        "         is in the polygon. Fixme: implement cyclic version. */\n",
        "    \"\"\"\n",
        "    n = len(pp)\n",
        "    pen = [None] * (n + 1)  # /* pen[n+1]: penalty vector */\n",
        "    prev = [None] * (n + 1)  # /* prev[n+1]: best path pointer vector */\n",
        "    clip0 = [None] * n  # /* clip0[n]: longest segment pointer, non-cyclic */\n",
        "    clip1 = [None] * (n + 1)  # /* clip1[n+1]: backwards segment pointer, non-cyclic */\n",
        "    seg0 = [None] * (n + 1)  # /* seg0[m+1]: forward segment bounds, m<=n */\n",
        "    seg1 = [None] * (n + 1)  # /* seg1[m+1]: backward segment bounds, m<=n */\n",
        "\n",
        "    # /* calculate clipped paths */\n",
        "    for i in range(n):\n",
        "        c = mod(pp._lon[mod(i - 1, n)] - 1, n)\n",
        "        if c == i:\n",
        "            c = mod(i + 1, n)\n",
        "        if c < i:\n",
        "            clip0[i] = n\n",
        "        else:\n",
        "            clip0[i] = c\n",
        "\n",
        "    # /* calculate backwards path clipping, non-cyclic. j <= clip0[i] iff\n",
        "    # clip1[j] <= i, for i,j=0..n. */\n",
        "    j = 1\n",
        "    for i in range(n):\n",
        "        while j <= clip0[i]:\n",
        "            clip1[j] = i\n",
        "            j += 1\n",
        "\n",
        "    # calculate seg0[j] = longest path from 0 with j segments */\n",
        "    i = 0\n",
        "    j = 0\n",
        "    while i < n:\n",
        "        seg0[j] = i\n",
        "        i = clip0[i]\n",
        "        j += 1\n",
        "    seg0[j] = n\n",
        "    m = j\n",
        "\n",
        "    # calculate seg1[j] = longest path to n with m-j segments */\n",
        "    i = n\n",
        "    for j in range(m, 0, -1):\n",
        "        seg1[j] = i\n",
        "        i = clip1[i]\n",
        "    seg1[0] = 0\n",
        "\n",
        "    \"\"\"now find the shortest path with m segments, based on penalty3 */\n",
        "    /* note: the outer 2 loops jointly have at most n iterations, thus\n",
        "         the worst-case behavior here is quadratic. In practice, it is\n",
        "         close to linear since the inner loop tends to be short. */\n",
        "         \"\"\"\n",
        "    pen[0] = 0\n",
        "    for j in range(1, m + 1): # Number of segments in the path from 0; can be 1 to m (we break the path into two components, a path from 0 and a path from n - a total of m segments between them)\n",
        "        for i in range(seg1[j], seg0[j] + 1): # Ranges from seg1[j], which is the farthest point reachable back from n using m - j segments, to seg0[j], the farthest point reachable from 0 using j segments\n",
        "            best = -1\n",
        "            for k in range(seg0[j - 1], clip1[i] - 1, -1): # Ranges from seg1[j - 1], farthest reachable back from n with m - j + 1 segments, down to clip1[i], farthest clipped reachable from i\n",
        "                thispen = penalty3(pp, k, i) + pen[k] # calculate the penalty of the segment from k to i in the current path (pp), and add pen[k] to it\n",
        "                if best < 0 or thispen < best:\n",
        "                    prev[i] = k # The prev array tracks the value of k for which the best penalty occurs for i\n",
        "                    best = thispen # Tracks the best penalty achievable for this value of i\n",
        "            pen[i] = best # Set pen[i] to be the best penalty possible\n",
        "\n",
        "    # This is just dynamic programming (although it has a lot of different moving parts to save time)\n",
        "    # We want to calculate the minimum penalty path that has exactly m segments (with m being the minimal number possible to use)\n",
        "    # The minimum penalty of the best path is pen[n]\n",
        "\n",
        "    pp._m = m\n",
        "    pp._po = [None] * m\n",
        "\n",
        "    # /* read off shortest path */\n",
        "    i = n\n",
        "    j = m - 1\n",
        "    while i > 0:\n",
        "        i = prev[i]\n",
        "        pp._po[j] = i\n",
        "        j -= 1\n",
        "    return 0"
      ]
    },
    {
      "cell_type": "code",
      "execution_count": 15,
      "metadata": {
        "colab": {
          "base_uri": "https://localhost:8080/"
        },
        "id": "LM92C_z4zguy",
        "outputId": "bec8cabd-d2de-4e2f-f78f-9d510de6a70c"
      },
      "outputs": [],
      "source": [
        "# CALC - Calculate the best polygon for each path\n",
        "for path in unique_paths:\n",
        "    _calc_sums(path)\n",
        "    _calc_lon(path)\n",
        "    _bestpolygon(path)"
      ]
    },
    {
      "cell_type": "code",
      "execution_count": 16,
      "metadata": {},
      "outputs": [
        {
          "data": {
            "image/png": "[encoded data removed]",
            "text/plain": [
              "<Figure size 640x480 with 1 Axes>"
            ]
          },
          "metadata": {},
          "output_type": "display_data"
        },
        {
          "data": {
            "image/png": "[encoded data removed]",
            "text/plain": [
              "<Figure size 640x480 with 1 Axes>"
            ]
          },
          "metadata": {},
          "output_type": "display_data"
        },
        {
          "data": {
            "image/png": "[encoded data removed]",
            "text/plain": [
              "<Figure size 640x480 with 1 Axes>"
            ]
          },
          "metadata": {},
          "output_type": "display_data"
        },
        {
          "data": {
            "image/png": "[encoded data removed]",
            "text/plain": [
              "<Figure size 640x480 with 1 Axes>"
            ]
          },
          "metadata": {},
          "output_type": "display_data"
        },
        {
          "data": {
            "image/png": "[encoded data removed]",
            "text/plain": [
              "<Figure size 640x480 with 1 Axes>"
            ]
          },
          "metadata": {},
          "output_type": "display_data"
        },
        {
          "data": {
            "image/png": "[encoded data removed]",
            "text/plain": [
              "<Figure size 640x480 with 1 Axes>"
            ]
          },
          "metadata": {},
          "output_type": "display_data"
        },
        {
          "data": {
            "image/png": "[encoded data removed]",
            "text/plain": [
              "<Figure size 640x480 with 1 Axes>"
            ]
          },
          "metadata": {},
          "output_type": "display_data"
        },
        {
          "data": {
            "image/png": "[encoded data removed]",
            "text/plain": [
              "<Figure size 640x480 with 1 Axes>"
            ]
          },
          "metadata": {},
          "output_type": "display_data"
        },
        {
          "data": {
            "image/png": "[encoded data removed]",
            "text/plain": [
              "<Figure size 640x480 with 1 Axes>"
            ]
          },
          "metadata": {},
          "output_type": "display_data"
        },
        {
          "data": {
            "image/png": "[encoded data removed]",
            "text/plain": [
              "<Figure size 640x480 with 1 Axes>"
            ]
          },
          "metadata": {},
          "output_type": "display_data"
        },
        {
          "data": {
            "image/png": "[encoded data removed]",
            "text/plain": [
              "<Figure size 640x480 with 1 Axes>"
            ]
          },
          "metadata": {},
          "output_type": "display_data"
        },
        {
          "data": {
            "image/png": "[encoded data removed]",
            "text/plain": [
              "<Figure size 640x480 with 1 Axes>"
            ]
          },
          "metadata": {},
          "output_type": "display_data"
        },
        {
          "data": {
            "image/png": "[encoded data removed]",
            "text/plain": [
              "<Figure size 640x480 with 1 Axes>"
            ]
          },
          "metadata": {},
          "output_type": "display_data"
        },
        {
          "data": {
            "image/png": "[encoded data removed]",
            "text/plain": [
              "<Figure size 640x480 with 1 Axes>"
            ]
          },
          "metadata": {},
          "output_type": "display_data"
        },
        {
          "data": {
            "image/png": "[encoded data removed]",
            "text/plain": [
              "<Figure size 640x480 with 1 Axes>"
            ]
          },
          "metadata": {},
          "output_type": "display_data"
        },
        {
          "data": {
            "image/png": "[encoded data removed]",
            "text/plain": [
              "<Figure size 640x480 with 1 Axes>"
            ]
          },
          "metadata": {},
          "output_type": "display_data"
        },
        {
          "data": {
            "image/png": "[encoded data removed]",
            "text/plain": [
              "<Figure size 640x480 with 1 Axes>"
            ]
          },
          "metadata": {},
          "output_type": "display_data"
        },
        {
          "data": {
            "image/png": "[encoded data removed]",
            "text/plain": [
              "<Figure size 640x480 with 1 Axes>"
            ]
          },
          "metadata": {},
          "output_type": "display_data"
        },
        {
          "data": {
            "image/png": "[encoded data removed]",
            "text/plain": [
              "<Figure size 640x480 with 1 Axes>"
            ]
          },
          "metadata": {},
          "output_type": "display_data"
        },
        {
          "data": {
            "image/png": "[encoded data removed]",
            "text/plain": [
              "<Figure size 640x480 with 1 Axes>"
            ]
          },
          "metadata": {},
          "output_type": "display_data"
        }
      ],
      "source": [
        "# Display the best polygon for a path\n",
        "def display_polygon(path, sidelength = nrows + 1):\n",
        "    path_arr = np.zeros((sidelength, sidelength))\n",
        "    for idx in path._po:\n",
        "        path_arr[path.pt[idx].x, path.pt[idx].y] = 1\n",
        "    plt.imshow(path_arr)\n",
        "\n",
        "for i in range(10):\n",
        "    display_path(unique_paths[i])\n",
        "    plt.show()\n",
        "    display_polygon(unique_paths[i])\n",
        "    plt.show()"
      ]
    },
    {
      "cell_type": "code",
      "execution_count": 17,
      "metadata": {},
      "outputs": [
        {
          "ename": "NameError",
          "evalue": "name 'seg_vertices' is not defined",
          "output_type": "error",
          "traceback": [
            "\u001b[0;31m---------------------------------------------------------------------------\u001b[0m",
            "\u001b[0;31mNameError\u001b[0m                                 Traceback (most recent call last)",
            "Cell \u001b[0;32mIn[17], line 8\u001b[0m\n\u001b[1;32m      5\u001b[0m         path_arr[point\u001b[38;5;241m.\u001b[39mx, point\u001b[38;5;241m.\u001b[39my] \u001b[38;5;241m=\u001b[39m \u001b[38;5;241m1\u001b[39m\n\u001b[1;32m      6\u001b[0m     plt\u001b[38;5;241m.\u001b[39mimshow(path_arr)\n\u001b[0;32m----> 8\u001b[0m plt\u001b[38;5;241m.\u001b[39mimshow(\u001b[43mseg_vertices\u001b[49m)\n\u001b[1;32m      9\u001b[0m plt\u001b[38;5;241m.\u001b[39mshow()\n\u001b[1;32m     10\u001b[0m display_path(plist[\u001b[38;5;241m3\u001b[39m], seg_vertices\u001b[38;5;241m.\u001b[39mshape[\u001b[38;5;241m0\u001b[39m])\n",
            "\u001b[0;31mNameError\u001b[0m: name 'seg_vertices' is not defined"
          ]
        }
      ],
      "source": [
        "# Display a given path object on the segmentation\n",
        "def display_path(path: _Path, sidelength):\n",
        "    path_arr = np.zeros((sidelength, sidelength))\n",
        "    for point in path.pt:\n",
        "        path_arr[point.x, point.y] = 1\n",
        "    plt.imshow(path_arr)\n",
        "\n",
        "plt.imshow(seg_vertices)\n",
        "plt.show()\n",
        "display_path(plist[3], seg_vertices.shape[0])\n",
        "display_polygon(plist[0], 12)"
      ]
    },
    {
      "cell_type": "code",
      "execution_count": null,
      "metadata": {
        "colab": {
          "base_uri": "https://localhost:8080/"
        },
        "id": "oZezExwX5O_e",
        "outputId": "6d1ce465-2ee6-4274-e5fa-1ee53f3ad539"
      },
      "outputs": [
        {
          "name": "stdout",
          "output_type": "stream",
          "text": [
            "[0, 9, 18, 27]\n"
          ]
        }
      ],
      "source": [
        "print(plist[0]._po)"
      ]
    },
    {
      "cell_type": "markdown",
      "metadata": {},
      "source": [
        "We start by tracing each segment into a path. However, we can instead trace each segment into a sequence of paths, where each path has only a single other region that it neighbors except for on its endpoints (issue: what if a path has only one point? Is this possible/OK?)\n",
        "We can merge the first and the last companion paths if they neighbor the same region.\n",
        "For each of the paths created this way, we want to know which two segments it neighbors. We will store in a list the order of these paths that make up a given full closed path.\n",
        "Paths which are between truly neighboring regions will be traced in opposite directions, but they should have exactly the same constituent points. We sort paths by the two regions they neighbor. For regions that truly neighbor one another, they may have multiple shared paths, so we reverse the order of the b, a paths (enclosing b and neighboring a) and compare them to the a, b paths -- we link paths that are the same somehow, recording this somewhere.\n",
        "For regions that are not truly neighboring, there is no need to do this comparison, as paths will only be traced once and there are no constraints we have to put on them.\n",
        "This effectively makes all 3+ segment junctures into vertex points.\n",
        "\n",
        "Steps:\n",
        "- Ensure optimal polygon algorithm works on non-closed paths\n",
        "- For each path we trace, record it in multiple segments, where each is marked with the segment it encloses and neighbors (and consider merging first and last)\n",
        "- Identify which of these pieces are the same for different segments\n",
        "- Trace each piece exactly once, getting optimal polygons that are guaranteed to fit together\n",
        "- Then, we go on to further optimizations\n"
      ]
    },
    {
      "cell_type": "code",
      "execution_count": null,
      "metadata": {},
      "outputs": [
        {
          "ename": "NameError",
          "evalue": "name '_Path' is not defined",
          "output_type": "error",
          "traceback": [
            "\u001b[0;31m---------------------------------------------------------------------------\u001b[0m",
            "\u001b[0;31mNameError\u001b[0m                                 Traceback (most recent call last)",
            "Cell \u001b[0;32mIn[1], line 16\u001b[0m\n\u001b[1;32m     13\u001b[0m \u001b[38;5;28;01mfor\u001b[39;00m i \u001b[38;5;129;01min\u001b[39;00m \u001b[38;5;28mrange\u001b[39m(\u001b[38;5;241m4\u001b[39m):\n\u001b[1;32m     14\u001b[0m     points\u001b[38;5;241m.\u001b[39mappend((points[\u001b[38;5;28mlen\u001b[39m(points)\u001b[38;5;241m-\u001b[39m\u001b[38;5;241m1\u001b[39m][\u001b[38;5;241m0\u001b[39m], points[\u001b[38;5;28mlen\u001b[39m(points)\u001b[38;5;241m-\u001b[39m\u001b[38;5;241m1\u001b[39m][\u001b[38;5;241m1\u001b[39m] \u001b[38;5;241m-\u001b[39m \u001b[38;5;241m1\u001b[39m))\n\u001b[0;32m---> 16\u001b[0m \u001b[38;5;28;01mdef\u001b[39;00m \u001b[38;5;21mpath_from_pts\u001b[39m(points, cyclic \u001b[38;5;241m=\u001b[39m \u001b[38;5;28;01mFalse\u001b[39;00m) \u001b[38;5;241m-\u001b[39m\u001b[38;5;241m>\u001b[39m \u001b[43m_Path\u001b[49m:\n\u001b[1;32m     17\u001b[0m     pt \u001b[38;5;241m=\u001b[39m []\n\u001b[1;32m     18\u001b[0m     \u001b[38;5;28;01mfor\u001b[39;00m point \u001b[38;5;129;01min\u001b[39;00m points:\n",
            "\u001b[0;31mNameError\u001b[0m: name '_Path' is not defined"
          ]
        }
      ],
      "source": [
        "# Given an arbitrary list of points, calculate the optimal polygon for that path\n",
        "points = []\n",
        "for i in range(7):\n",
        "    points.append((i, i))\n",
        "    points.append((i + 1, i))\n",
        "\n",
        "for i in range(4):\n",
        "    points.append((points[len(points)-1][0], points[len(points)-1][1] + 1))\n",
        "\n",
        "for i in range(4):\n",
        "    points.append((points[len(points)-1][0] - 1, points[len(points)-1][1]))\n",
        "\n",
        "for i in range(4):\n",
        "    points.append((points[len(points)-1][0], points[len(points)-1][1] - 1))\n",
        "\n",
        "def path_from_pts(points, cyclic = False) -> _Path:\n",
        "    pt = []\n",
        "    for point in points:\n",
        "        x, y = point\n",
        "        pt.append(_Point(x, y))\n",
        "    area = None\n",
        "    region = -1\n",
        "    path = _Path(pt, area, region)\n",
        "    path.cyclic = cyclic\n",
        "    return path\n",
        "\n",
        "testpath = path_from_pts(points)\n",
        "display_path(testpath, 12)"
      ]
    },
    {
      "cell_type": "code",
      "execution_count": null,
      "metadata": {},
      "outputs": [
        {
          "data": {
            "text/plain": [
              "0"
            ]
          },
          "execution_count": 192,
          "metadata": {},
          "output_type": "execute_result"
        }
      ],
      "source": [
        "_calc_sums(testpath)"
      ]
    },
    {
      "cell_type": "code",
      "execution_count": null,
      "metadata": {},
      "outputs": [
        {
          "data": {
            "text/plain": [
              "0"
            ]
          },
          "execution_count": 193,
          "metadata": {},
          "output_type": "execute_result"
        }
      ],
      "source": [
        "_calc_lon(testpath) # RETURN AND KEEP ADAPTING WEDNESDAY"
      ]
    },
    {
      "cell_type": "code",
      "execution_count": null,
      "metadata": {},
      "outputs": [
        {
          "name": "stdout",
          "output_type": "stream",
          "text": [
            "[15, 15, 15, 15, 15, 15, 15, 15, 15, 16, 16, 18, 18, 18, 18, 19, 22, 22, 22, 23, 26, 26, 26, 26, 26, 15]\n"
          ]
        }
      ],
      "source": [
        "print(testpath._lon)"
      ]
    },
    {
      "cell_type": "code",
      "execution_count": null,
      "metadata": {},
      "outputs": [
        {
          "name": "stdout",
          "output_type": "stream",
          "text": [
            "26\n",
            "25\n",
            "21\n",
            "17\n",
            "13\n"
          ]
        },
        {
          "data": {
            "text/plain": [
              "0"
            ]
          },
          "execution_count": 195,
          "metadata": {},
          "output_type": "execute_result"
        }
      ],
      "source": [
        "_bestpolygon(testpath)"
      ]
    },
    {
      "cell_type": "code",
      "execution_count": null,
      "metadata": {},
      "outputs": [
        {
          "data": {
            "image/png": "[encoded data removed]",
            "text/plain": [
              "<Figure size 640x480 with 1 Axes>"
            ]
          },
          "metadata": {},
          "output_type": "display_data"
        }
      ],
      "source": [
        "display_polygon(testpath, 12)"
      ]
    },
    {
      "cell_type": "code",
      "execution_count": 19,
      "metadata": {},
      "outputs": [
        {
          "name": "stdout",
          "output_type": "stream",
          "text": [
            "[31, 31, 31, 31, 31, 31, 31, 31, 31, 31, 31, 31, 31, 31, 31, 31, 31, 31, 31, 31, 31, 31, 31, 31, 31, 31, 31, 31, 70, 70, 70, 70, 70, 70, 70, 70, 70, 70, 70, 70, 70, 70, 70, 70, 70, 70, 70, 70, 70, 70, 70, 70, 70, 70, 70, 70, 70, 70, 70, 70, 70, 70, 70, 70, 70, 70, 70, 70, 70, 31]\n"
          ]
        },
        {
          "data": {
            "image/png": "[encoded data removed]",
            "text/plain": [
              "<Figure size 640x480 with 1 Axes>"
            ]
          },
          "metadata": {},
          "output_type": "display_data"
        }
      ],
      "source": [
        "# Given an arbitrary list of points, calculate the optimal polygon for that path\n",
        "points = []\n",
        "for i in range(30):\n",
        "    points.append((0, i))\n",
        "\n",
        "for i in range(20):\n",
        "    cur_x, cur_y = points[-1][0], points[-1][1]\n",
        "    points.append((cur_x + 1, cur_y))\n",
        "    points.append((cur_x + 1, cur_y - 1))\n",
        "\n",
        "def path_from_pts(points, cyclic = False) -> _Path:\n",
        "    pt = []\n",
        "    for point in points:\n",
        "        x, y = point\n",
        "        pt.append(_Point(x, y))\n",
        "    area = None\n",
        "    region = -1\n",
        "    path = _Path(pt, area, region)\n",
        "    path.cyclic = cyclic\n",
        "    return path\n",
        "\n",
        "testpath = path_from_pts(points)\n",
        "display_path(testpath, 40)\n",
        "\n",
        "_calc_sums(testpath)\n",
        "_calc_lon(testpath)\n",
        "print(testpath._lon)\n",
        "_bestpolygon(testpath)\n",
        "display_polygon(testpath, 50)"
      ]
    },
    {
      "cell_type": "code",
      "execution_count": 20,
      "metadata": {},
      "outputs": [
        {
          "name": "stdout",
          "output_type": "stream",
          "text": [
            "3\n"
          ]
        }
      ],
      "source": [
        "print(testpath._m)\n",
        "# This includes the segment back to 0; it is 1 too high"
      ]
    },
    {
      "cell_type": "markdown",
      "metadata": {},
      "source": [
        "TO DO:\n",
        "- Get the optimal polygon algorithm to work on non-closed paths (_calc_lon, _bestpolygon)\n",
        "- Implement _adjust_vertices; may have to adapt because there are now added constraints\n",
        "- Move into smoothing and corner analysis, then curve optimization\n",
        "- Requires implementation of Curve class\n",
        "\n",
        "FRI Goals:\n",
        "- Fix the optimal polygon algorithm so it works on non-closed paths\n",
        "- Experiment with the adjust vertices algorithm to understand what it does, how it works\n",
        "- Start implementing adjust vertices"
      ]
    }
  ],
  "metadata": {
    "colab": {
      "provenance": []
    },
    "kernelspec": {
      "display_name": "Python 3",
      "name": "python3"
    },
    "language_info": {
      "codemirror_mode": {
        "name": "ipython",
        "version": 3
      },
      "file_extension": ".py",
      "mimetype": "text/x-python",
      "name": "python",
      "nbconvert_exporter": "python",
      "pygments_lexer": "ipython3",
      "version": "3.10.13"
    }
  },
  "nbformat": 4,
  "nbformat_minor": 0
}

{
  "cells": [
    {
      "cell_type": "code",
      "execution_count": 22,
      "metadata": {
        "id": "a6PeYshNXGe-"
      },
      "outputs": [],
      "source": [
        "# Segmentation algorithm that deals with anti-aliasing and is more efficient - V3\n",
        "import numpy as np\n",
        "import matplotlib.pyplot as plt\n",
        "import matplotlib.cm as cm\n",
        "import math\n",
        "from numba import jit\n",
        "\n",
        "from scipy import ndimage as ndi\n",
        "from skimage.color import rgb2lab, lab2rgb\n",
        "from skimage import io, img_as_float, exposure\n",
        "from skimage.segmentation import mark_boundaries"
      ]
    },
    {
      "cell_type": "code",
      "execution_count": 23,
      "metadata": {
        "id": "7rzpiOIERSn9"
      },
      "outputs": [],
      "source": [
        "def display_image(img, len = 10):\n",
        "  '''Displays an image'''\n",
        "  plt.figure(figsize=(len, len))\n",
        "  plt.imshow(img, cmap='gray')\n",
        "\n",
        "def mean_color_img(image, segmentation, num_segments):\n",
        "  '''Calculate the mean color of each region of a segmentation'''\n",
        "  new_image = np.zeros_like(image)\n",
        "  for i in range(num_segments):\n",
        "    new_image[segmentation == i] = np.mean(image[segmentation == i], axis=0)\n",
        "  return new_image\n",
        "\n",
        "def display_segment(segment_to_display, segmentation, len = 10):\n",
        "  '''Display a given segment from a segmentation'''\n",
        "  plt.figure(figsize=(len, len))\n",
        "  plt.imshow(segmentation == segment_to_display, cmap='gray')\n",
        "\n",
        "def num_pixels(segment_index):\n",
        "  '''Count number of pixels in a segment'''\n",
        "  return np.sum(segmentation == segment_index)\n",
        "\n",
        "def display_segmentation(image, segmentation, len = 18):\n",
        "  '''Displays an image side by side with a segmentation'''\n",
        "  fig, axes = plt.subplots(1, 2, figsize=(len, len), sharex=True, sharey=True)\n",
        "  ax = axes.ravel()\n",
        "  ax[0].imshow(image)\n",
        "  ax[0].set_title('Original Image')\n",
        "  ax[0].axis('off')\n",
        "  ax[1].imshow(mark_boundaries(image, segmentation))\n",
        "  ax[1].set_title(\"Labeled\")\n",
        "  ax[1].axis('off')\n",
        "  print(num_segments)"
      ]
    },
    {
      "cell_type": "code",
      "execution_count": 24,
      "metadata": {
        "id": "DjQXofKjSEaw"
      },
      "outputs": [],
      "source": [
        "# Step 1 - Import image (PNG assumed), delete opacity info and scale down\n",
        "def load_png(filename, downsample = False):\n",
        "  '''Loads an image from a file'''\n",
        "  image = io.imread(\"Test Images/\" + filename + \".png\")\n",
        "  image = image[:, :, :3] # Remove alpha channel\n",
        "  if downsample:\n",
        "    image = image[::2, ::2] # Can adjust scaling factor\n",
        "  return img_as_float(image)\n",
        "\n",
        "image = load_png(\"3\")"
      ]
    },
    {
      "cell_type": "code",
      "execution_count": 25,
      "metadata": {
        "id": "vyzKkbAbVsy2"
      },
      "outputs": [],
      "source": [
        "# Edge mask - Return, optimize loop by taking away unnecessary math, rearranging loop structure - also, should incorporate canny filter in for more detection - RETURN\n",
        "@jit(fastmath = True, nopython = True)\n",
        "def sobel_edge(image, threshold = 10, a = 1, b = 2):\n",
        "    '''Sobel edge detection (float image --> 0's and 1's)'''\n",
        "    Kx = np.array([[a, 0, -a],\n",
        "                   [b, 0, -b],\n",
        "                   [a, 0, -a]])\n",
        "    Ky = np.array([[ a,  b,  a],\n",
        "                   [ 0,  0,  0],\n",
        "                   [-a, -b, -a]])\n",
        "\n",
        "    # Get image dimensions\n",
        "    rows, cols, channels = image.shape\n",
        "    G = np.zeros((rows, cols, channels), dtype=np.float32)\n",
        "\n",
        "    Ix = np.zeros((rows, cols, channels), dtype=np.float32)\n",
        "    Iy = np.zeros((rows, cols, channels), dtype=np.float32)\n",
        "\n",
        "    for i in range(1, rows-1):\n",
        "        for j in range(1, cols-1):\n",
        "            for k in range(channels):\n",
        "              region = image[i-1:i+2, j-1:j+2, k]\n",
        "              Ix[i, j, k] = np.sum(Kx * region)\n",
        "              Iy[i, j, k] = np.sum(Ky * region)\n",
        "\n",
        "    for k in range(channels):\n",
        "        G[:, :, k] = np.hypot(Ix[:, :, k], Iy[:, :, k])\n",
        "\n",
        "    # Flatten, normalize to range 0 to 255\n",
        "    H = np.sqrt(G[:, :, 0]**2 + G[:, :, 1]**2 + G[:, :, 2]**2)\n",
        "    H = H / H.max() > threshold / 255\n",
        "\n",
        "    return H\n",
        "\n",
        "def enhance_contrast(image, percentile = 7):\n",
        "  '''Enhance image contrast using contrast stretching - higher percentile, more stretching (float image --> float image)'''\n",
        "  p2, p98 = np.percentile(image, (percentile, 100 - percentile))\n",
        "  return exposure.rescale_intensity(image, in_range=(p2, p98))\n",
        "\n",
        "\n",
        "edges = sobel_edge(enhance_contrast(image), 20).astype(int)"
      ]
    },
    {
      "cell_type": "code",
      "execution_count": 26,
      "metadata": {
        "colab": {
          "base_uri": "https://localhost:8080/",
          "height": 804
        },
        "id": "CO3fnBgWIkuO",
        "outputId": "d00c4200-7bf0-4a4d-b210-6d10f31dd334"
      },
      "outputs": [],
      "source": [
        "# # Display images next to one another\n",
        "# fig, axes = plt.subplots(ncols=2, sharex=True, sharey=True, figsize=(20, 10))\n",
        "# axes[0].imshow(image)\n",
        "# axes[0].set_title('Original Image')\n",
        "# axes[1].imshow(edges, cmap=plt.cm.gray)\n",
        "# axes[1].set_title('Edge Detection')"
      ]
    },
    {
      "cell_type": "code",
      "execution_count": 27,
      "metadata": {
        "colab": {
          "base_uri": "https://localhost:8080/"
        },
        "id": "hzb1vu9Fe97i",
        "outputId": "4cf22993-4df2-44d1-845f-dea912743a73"
      },
      "outputs": [],
      "source": [
        "# Alg - Flood fill algorithm, S, i, j, c --> S -- improve with full stack and pointers\n",
        "\n",
        "@jit(fastmath = True)\n",
        "def color_distance(col1, col2):\n",
        "  '''Get Euclidean distance squared between two lab colors'''\n",
        "  return (col1[0] - col2[0]) ** 2 + (col1[1] - col2[1]) ** 2 + (col1[2] - col2[2]) ** 2\n",
        "\n",
        "@jit(fastmath = True)\n",
        "def floodFill(S, i, j, new_val, color_dist_thresh, lab_image):\n",
        "  '''Flood-fill algorithm'''\n",
        "  rows, cols = S.shape\n",
        "  dx = [1, -1, 0, 0]\n",
        "  dy = [0, 0, 1, -1]\n",
        "  visited = np.zeros_like(S)\n",
        "  stack = [(i, j)]\n",
        "  visited[i, j] = 1\n",
        "  target_val = S[i, j]\n",
        "  sum_colors = np.copy(lab_image[i, j])\n",
        "  num_pixels = 1\n",
        "\n",
        "  while stack:\n",
        "    # Pop the current entry, add it to the region, update color sum and pixel number\n",
        "    cx, cy = stack.pop()\n",
        "    S[cx, cy] = new_val\n",
        "    sum_colors += lab_image[cx, cy]\n",
        "    num_pixels += 1\n",
        "    mean_color = sum_colors / num_pixels\n",
        "\n",
        "    # Consider neighboring pixels\n",
        "    for i in range(4):\n",
        "      nx = cx + dx[i]\n",
        "      ny = cy + dy[i]\n",
        "      if nx < 0 or nx >= rows or ny < 0 or ny >= cols:\n",
        "          continue\n",
        "      if S[nx, ny] != target_val:\n",
        "          continue\n",
        "      if visited[nx, ny]:\n",
        "          continue\n",
        "      if color_distance(mean_color, lab_image[nx, ny]) > color_dist_thresh:\n",
        "        continue\n",
        "      visited[cx, cy] = 1\n",
        "      stack.append((nx, ny))"
      ]
    },
    {
      "cell_type": "code",
      "execution_count": 28,
      "metadata": {
        "id": "E0XTjgbscpKK"
      },
      "outputs": [],
      "source": [
        "# Alg - Segment the image using flood-fill\n",
        "def floodSegment(lab_image, edges, color_thresh = 300):\n",
        "  segmentation = - edges\n",
        "  segmentation[segmentation == 0] = -2\n",
        "  num_rows, num_columns = np.shape(edges)\n",
        "\n",
        "  # Flood-fill with color thresholding to get segmentation\n",
        "  c = 0\n",
        "  for i in range(num_rows):\n",
        "    for j in range(num_columns):\n",
        "      if segmentation[i, j] == -2:\n",
        "        floodFill(segmentation, i, j, c, color_thresh, lab_image)\n",
        "        c += 1\n",
        "      elif segmentation[i, j] == -1:\n",
        "        segmentation[i, j] = -1\n",
        "  return segmentation, c"
      ]
    },
    {
      "cell_type": "code",
      "execution_count": 29,
      "metadata": {
        "id": "sCtnOp_rZ_Yr"
      },
      "outputs": [],
      "source": [
        "# Alg - Classify small regions of the segmentation as -1 (could change this to add them to neighboring regions)\n",
        "def cleanSegmentation(segmentation, num_segments, min_seg_pixels = 5):\n",
        "  kept_segs = []\n",
        "  for i in range(num_segments):\n",
        "    if num_pixels(i) < min_seg_pixels:\n",
        "      segmentation[segmentation == i] = -1\n",
        "    else:\n",
        "      kept_segs.append(i)\n",
        "  num_segments = len(kept_segs)\n",
        "  for i in range(num_segments):\n",
        "    segmentation[segmentation == kept_segs[i]] = i\n",
        "  return segmentation, num_segments"
      ]
    },
    {
      "cell_type": "code",
      "execution_count": 30,
      "metadata": {
        "id": "5aTzIegLlWsO"
      },
      "outputs": [],
      "source": [
        "# Calculate the segmentation\n",
        "segmentation, num_segments = floodSegment(rgb2lab(image), edges)\n",
        "segmentation, num_segments = cleanSegmentation(segmentation, num_segments)"
      ]
    },
    {
      "cell_type": "code",
      "execution_count": 31,
      "metadata": {
        "id": "MRGw2CtbEMv-"
      },
      "outputs": [],
      "source": [
        "# # Display segmentation\n",
        "# display_segmentation(image, segmentation)\n",
        "# display_image(mean_color_img(image, segmentation, num_segments))"
      ]
    },
    {
      "cell_type": "code",
      "execution_count": 32,
      "metadata": {
        "colab": {
          "base_uri": "https://localhost:8080/",
          "height": 890
        },
        "id": "DM2gQcqxWsMm",
        "outputId": "be62ca62-2417-4f52-c280-77fc207019e4"
      },
      "outputs": [
        {
          "data": {
            "image/png": "[encoded data removed]",
            "text/plain": [
              "<Figure size 1000x1000 with 1 Axes>"
            ]
          },
          "metadata": {},
          "output_type": "display_data"
        }
      ],
      "source": [
        "# Assign ambiguous/edge pixels to a neighboring segment\n",
        "\n",
        "def initialize_degree(segmentation):\n",
        "  degree = np.zeros_like(segmentation)\n",
        "  degree[segmentation == -1] = -1\n",
        "  return degree\n",
        "\n",
        "def mean_cols(image, segmentation, num_segments):\n",
        "  '''Calculate the mean color of each region of a segmentation'''\n",
        "  mean_cols = np.zeros((num_segments, 3))\n",
        "  for i in range(num_segments):\n",
        "      mean_cols[i] = np.mean(image[segmentation == i], axis=0)\n",
        "  return mean_cols\n",
        "\n",
        "@jit(fastmath = True)\n",
        "def nbr_regions(i, j, seg, rows, cols, degree):\n",
        "  '''Get the neighboring regions of a given pixel, as well as the minimal degree of each region'''\n",
        "  nbrs = np.full(4, -1)\n",
        "  degs = np.full(4, -1)\n",
        "  if i < rows - 1:\n",
        "    nbrs[0] = (seg[i + 1, j])\n",
        "    degs[0] = (degree[i + 1, j])\n",
        "  if i > 0:\n",
        "    nbrs[1] = (seg[i - 1, j])\n",
        "    degs[1] = (degree[i - 1, j])\n",
        "  if j < cols - 1:\n",
        "    nbrs[2] = (seg[i, j + 1])\n",
        "    degs[2] = (degree[i, j + 1])\n",
        "  if j > 0:\n",
        "    nbrs[3] = (seg[i, j - 1])\n",
        "    degs[3] = (degree[i, j - 1])\n",
        "  unique_nbrs = np.unique(nbrs[nbrs != -1])\n",
        "  min_degrees = np.array([np.min(degs[nbrs == unique_nbrs[i]]) for i in range(len(unique_nbrs))])\n",
        "  return unique_nbrs, min_degrees\n",
        "\n",
        "def assign_px(lab_image, seg, degree, idx, nbrs, degs, stack, mean_colors, iter_num):\n",
        "  '''Assign an edge pixel to a neighboring region or add it to a queue (defer)'''\n",
        "  if len(nbrs) == 1 and (degs[0] == 0 or iter_num > 0):\n",
        "    seg[idx] = nbrs[0]\n",
        "    degree[idx] = degs[0] + 1\n",
        "    return\n",
        "  if len(nbrs) >= 2:\n",
        "    if len(np.where(degs == np.min(degs))) == 1:\n",
        "      seg[idx] = nbrs[np.argmin(degs)]\n",
        "      degree[idx] = degs[np.argmin(degs)] + 1\n",
        "    else:\n",
        "      pix_col = lab_image[idx]\n",
        "      dists = np.zeros(len(nbrs))\n",
        "      for i in range(len(nbrs)):\n",
        "        dists[i] = color_distance(pix_col, mean_colors[nbrs[i]])\n",
        "      seg[idx] = nbrs[np.argmin(dists)]\n",
        "      degree[idx] = degs[np.argmin(dists)] + 1\n",
        "    return\n",
        "  stack.append(idx)\n",
        "\n",
        "def assign_edge_pixels(lab_image, mean_colors, degree, seg):\n",
        "  '''Create new segmentation assigning edge pixels to closest neighboring region '''\n",
        "  stack = []\n",
        "  rows, cols = np.shape(seg)\n",
        "  for idx in zip(*np.where(seg == -1)):\n",
        "    nbrs, degs = nbr_regions(idx[0], idx[1], seg, rows, cols, degree)\n",
        "    assign_px(lab_image, seg, degree, idx, nbrs, degs, stack, mean_colors, 0)\n",
        "  while stack:\n",
        "    idx = stack.pop()\n",
        "    nbrs, degs = nbr_regions(idx[0], idx[1], seg, rows, cols, degree)\n",
        "    assign_px(lab_image, seg, degree, idx, nbrs, degs, stack, mean_colors, 1)\n",
        "  return seg\n",
        "\n",
        "segmentation = assign_edge_pixels(rgb2lab(image), mean_cols(image, segmentation, num_segments), initialize_degree(segmentation), segmentation)\n",
        "display_image(mean_color_img(image, segmentation, num_segments))"
      ]
    },
    {
      "cell_type": "code",
      "execution_count": 33,
      "metadata": {},
      "outputs": [],
      "source": [
        "# Save array for testing\n",
        "np.save(\"segmentation.npy\", segmentation)"
      ]
    },
    {
      "cell_type": "code",
      "execution_count": 34,
      "metadata": {},
      "outputs": [],
      "source": [
        "# Get array of mean RGB colors for each segment - kind of slow (0.6 sec), wtv, numba speed-up possible\n",
        "segment_colors = np.zeros((num_segments, 3), dtype = int)\n",
        "for i in range(num_segments):\n",
        "    segment_colors[i, :] = np.round(np.mean(image[segmentation == i], axis=0) * 255)\n",
        "\n",
        "# Save array for testing\n",
        "np.save(\"segment_colors.npy\", segment_colors)"
      ]
    }
  ],
  "metadata": {
    "colab": {
      "provenance": []
    },
    "kernelspec": {
      "display_name": "Python 3",
      "name": "python3"
    },
    "language_info": {
      "codemirror_mode": {
        "name": "ipython",
        "version": 3
      },
      "file_extension": ".py",
      "mimetype": "text/x-python",
      "name": "python",
      "nbconvert_exporter": "python",
      "pygments_lexer": "ipython3",
      "version": "3.10.13"
    }
  },
  "nbformat": 4,
  "nbformat_minor": 0
}
